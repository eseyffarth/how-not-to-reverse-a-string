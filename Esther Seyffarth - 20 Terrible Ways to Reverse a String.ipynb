{
 "cells": [
  {
   "cell_type": "markdown",
   "metadata": {},
   "source": [
    "<img src=\"./data/images/title.PNG\" width=\"800\" alt=\"title slide: 20 terrible ways to reverse a string, esther seyffarth, codetalks 2019\" align=\"left\">"
   ]
  },
  {
   "cell_type": "markdown",
   "metadata": {},
   "source": [
    "To follow along with this presentation: \n",
    "- `git clone <myurl>`\n",
    "- start a Jupyter Notebook server and open the file `20 Terrible Ways to Reverse a String.ipynb`\n",
    "\n",
    "About this talk: See the [abstract on the codetalks 2019 website](https://www.codetalks.de/program#talk-671?event=5)."
   ]
  },
  {
   "cell_type": "markdown",
   "metadata": {},
   "source": [
    "# First of all: How *should* you reverse a string in Python?"
   ]
  },
  {
   "cell_type": "code",
   "execution_count": null,
   "metadata": {
    "collapsed": true
   },
   "outputs": [],
   "source": [
    "example = \"!emocleW\"\n",
    "print(example[::-1]) # THIS IS THE CANONICAL ANSWER."
   ]
  },
  {
   "cell_type": "markdown",
   "metadata": {},
   "source": [
    "# But why can't we just... you know... reverse the string?\n",
    "\n",
    "### *Strings are immutable in Python! From the official [Python Documentation](https://docs.python.org/3/reference/datamodel.html#objects-values-and-types):*\n",
    "\n",
    "<img src=\"./data/images/mutability.png\" width=\"800\" alt=\"excerpt from the Python Documentation at https://docs.python.org/3/reference/datamodel.html#objects-values-and-types\" align=\"left\">"
   ]
  },
  {
   "cell_type": "markdown",
   "metadata": {},
   "source": [
    "### This is why the canonical way to reverse a string is not to apply an operation to the string itself, but instead to use slicing to copy the parts of the string that we want (all the parts) in the order we want (backwards) and work with the result.\n",
    "\n",
    "Now let's get started...\n",
    "\n",
    "# 20 Terrible Ways to Reverse a String!\n",
    "## 1/20: Format Reverse"
   ]
  },
  {
   "cell_type": "code",
   "execution_count": null,
   "metadata": {
    "collapsed": true
   },
   "outputs": [],
   "source": [
    "def format_reverse(input_string):\n",
    "    output_string = \"{}\" * len(input_string)\n",
    "    for i in range(len(input_string)):\n",
    "        remaining_chars = [\"{}\" for j in range(\n",
    "                            len(input_string) - i-1)]\n",
    "        output_string = output_string.format(*remaining_chars, \n",
    "                                             input_string[i])\n",
    "#         print(output_string) # UNCOMMENT FOR A FUN TIME!\n",
    "    return output_string\n",
    "\n",
    "print(format_reverse(\"a bad idea\"))"
   ]
  },
  {
   "cell_type": "markdown",
   "metadata": {},
   "source": [
    "## 2/20: Switch it up"
   ]
  },
  {
   "cell_type": "code",
   "execution_count": null,
   "metadata": {
    "collapsed": true
   },
   "outputs": [],
   "source": [
    "def both_sides_reverse(word):\n",
    "    word = list(word)\n",
    "    for i in range(len(word)):\n",
    "#         print(\"\".join(word))   # UNCOMMENT FOR A FUN TIME!\n",
    "        new_i = len(word) - i-1\n",
    "        for j in range(0, new_i):\n",
    "            word[j], word[j+1] = word[j+1], word[j]\n",
    "    return \"\".join(word)\n",
    "\n",
    "print(both_sides_reverse(\"swappity swap\"))"
   ]
  },
  {
   "cell_type": "markdown",
   "metadata": {},
   "source": [
    "## 3/20: Finally, some numpy!"
   ]
  },
  {
   "cell_type": "code",
   "execution_count": null,
   "metadata": {
    "collapsed": true
   },
   "outputs": [],
   "source": [
    "import numpy as np     # oh là là that's fancy\n",
    "\n",
    "def np_reverse(word):\n",
    "    out = np.empty([len(word), len(word)], dtype=np.unicode_)\n",
    "    out[0,] = np.asarray(list(word), dtype=np.unicode_)\n",
    "#     print(out)    # UNCOMMENT FOR A FUN TIME!\n",
    "    out = np.rot90(out)\n",
    "#     print(out)    # UNCOMMENT FOR A FUN TIME!\n",
    "    out = out.transpose(1,0)\n",
    "#     print(out)    # UNCOMMENT FOR A FUN TIME!\n",
    "    return \"\".join([c for c in out[0,]])\n",
    "\n",
    "print(np_reverse(\"numpy is cool\"))"
   ]
  },
  {
   "cell_type": "markdown",
   "metadata": {},
   "source": [
    "## 4/20: Recursion time!"
   ]
  },
  {
   "cell_type": "code",
   "execution_count": null,
   "metadata": {
    "collapsed": true
   },
   "outputs": [],
   "source": [
    "def recursive_reverse(word):\n",
    "    if len(word) == 1 or len(word) == 0:\n",
    "#         print(word)   # UNCOMMENT FOR A FUN TIME!\n",
    "        return word\n",
    "    else:\n",
    "#         print(word)   # UNCOMMENT FOR A FUN TIME!\n",
    "        return \"{}{}{}\".format(word[-1], \n",
    "                               recursive_reverse(word[1:-1]), \n",
    "                               word[0])\n",
    "    \n",
    "print(recursive_reverse(\"almost a good solution!\"))"
   ]
  },
  {
   "cell_type": "markdown",
   "metadata": {},
   "source": [
    "## 5/20: The one-liner"
   ]
  },
  {
   "cell_type": "code",
   "execution_count": null,
   "metadata": {
    "collapsed": true
   },
   "outputs": [],
   "source": [
    "def rec_rev(w): return (len(w)==1 and w) or rec_rev(w[1:])+w[0]\n",
    "\n",
    "print(rec_rev(\"): nuf si noitacsufbo\"))"
   ]
  },
  {
   "cell_type": "markdown",
   "metadata": {},
   "source": [
    "### Wait, why does this work?\n",
    "\n",
    "### *From the Python Documentation (https://docs.python.org/3/reference/expressions.html?#boolean-operations):*\n",
    "\n",
    "<img src=\"./data/images/boolean_evaluation.png\" width=\"800\" alt=\"excerpt from the Python Documentation at https://docs.python.org/3/reference/expressions.html?#boolean-operations\" align=\"left\">"
   ]
  },
  {
   "cell_type": "code",
   "execution_count": null,
   "metadata": {
    "collapsed": true
   },
   "outputs": [],
   "source": [
    "# Try it out:\n",
    "print(True and \"spaghetti\")\n",
    "print(\"spaghetti\" and True)\n",
    "print(False or \"pizza\")\n",
    "print(\"pizza\" or False)"
   ]
  },
  {
   "cell_type": "markdown",
   "metadata": {},
   "source": [
    "## 6/20: Pop random chars and insert (at correct indices)"
   ]
  },
  {
   "cell_type": "code",
   "execution_count": null,
   "metadata": {
    "collapsed": true,
    "scrolled": false
   },
   "outputs": [],
   "source": [
    "import random\n",
    "\n",
    "def pop_reverse(word):\n",
    "    out = [None] * len(word)\n",
    "#     print(out)        # UNCOMMENT FOR A FUN TIME!\n",
    "    while None in out:\n",
    "        next_char_pos = random.randint(0, len(word)-1)\n",
    "        out[-next_char_pos-1] = word[next_char_pos]\n",
    "#         print(out)    # UNCOMMENT FOR A FUN TIME!\n",
    "    return \"\".join(out)\n",
    "\n",
    "print(pop_reverse(\"why would anyone do this??\"))"
   ]
  },
  {
   "cell_type": "markdown",
   "metadata": {},
   "source": [
    "## 7/20: Put that on your stack and smoke it"
   ]
  },
  {
   "cell_type": "code",
   "execution_count": null,
   "metadata": {
    "collapsed": true
   },
   "outputs": [],
   "source": [
    "class Stack_Reverser():\n",
    "    def __init__(self, input_word):\n",
    "        self.original_word = input_word\n",
    "        self.stack = []\n",
    "        \n",
    "    def is_empty(self):\n",
    "        return not bool(len(self.stack))\n",
    "    \n",
    "    def add_element(self, el):\n",
    "        self.stack.append(el)\n",
    "        \n",
    "    def remove_element(self):\n",
    "        return self.stack.pop()\n",
    "    \n",
    "    def reverse_string(self):\n",
    "        out = \"\"\n",
    "        for c in self.original_word:\n",
    "            self.add_element(c)\n",
    "#         print(self.stack)   # UNCOMMENT FOR A FUN TIME!\n",
    "        while not self.is_empty():\n",
    "            out += self.remove_element()\n",
    "#             print(out)      # UNCOMMENT FOR A FUN TIME!\n",
    "        return out\n",
    "    \n",
    "lfs = Stack_Reverser(\"now that's what I call professional.\")\n",
    "print(lfs.reverse_string())"
   ]
  },
  {
   "cell_type": "markdown",
   "metadata": {},
   "source": [
    "## 8/20: Swap chars until you get to the middle"
   ]
  },
  {
   "cell_type": "code",
   "execution_count": null,
   "metadata": {
    "collapsed": true
   },
   "outputs": [],
   "source": [
    "def swap_reverse(word):\n",
    "    for i in range(len(word) // 2):\n",
    "        start = word[:i] + word[-i-1]\n",
    "        middle = word[i+1:-i-1]\n",
    "        end = word[i] + int(bool(i)) * word[-i:]\n",
    "        word = start + middle + end\n",
    "#         print(word)     # UNCOMMENT FOR A FUN TIME!\n",
    "    return word\n",
    "\n",
    "print(swap_reverse(\"oof gimme a break\"))"
   ]
  },
  {
   "cell_type": "markdown",
   "metadata": {},
   "source": [
    "<img src=\"./data/images/Mobile_titled__Doppler__by_Julie_Frith.jpg\" width=\"800\" alt=\"mobile that visualizes a binary tree structure\" align=\"left\">"
   ]
  },
  {
   "cell_type": "markdown",
   "metadata": {},
   "source": [
    "*Mobile titled \"Doppler\" by Julie Frith. Public domain, [wikimedia](https://commons.wikimedia.org/wiki/File:Mobile_titled_%22Doppler%22_by_Julie_Frith.jpg).*"
   ]
  },
  {
   "cell_type": "markdown",
   "metadata": {},
   "source": [
    "## 9/20: Build a tree, spin it around"
   ]
  },
  {
   "cell_type": "code",
   "execution_count": null,
   "metadata": {
    "collapsed": true
   },
   "outputs": [],
   "source": [
    "import itertools\n",
    "\n",
    "def build_tree(word):\n",
    "    if len(word) == 1:\n",
    "        return word\n",
    "    return [word[0], build_tree(word[1:])]\n",
    "\n",
    "def tree_swap (tree):\n",
    "    return list(tree[-1]) + list(tree[0])\n",
    "\n",
    "def tree_reverse(word):\n",
    "    tree = build_tree(word)\n",
    "#     print(\"Initial tree: {}\\n\".format(tree))     # UNCOMMENT THIS!\n",
    "    return \"\".join(tree_walk(tree))\n",
    "\n",
    "def tree_walk(tree):\n",
    "#     print(tree)                                  # UNCOMMENT THIS!\n",
    "    if len(tree[1]) == 1:\n",
    "        tree = tree_swap(tree)\n",
    "    else:\n",
    "        tree = tree_walk(tree[-1]) + list(tree[0])\n",
    "#     print(tree)                                  # UNCOMMENT THIS!\n",
    "    return tree\n",
    "\n",
    "print(tree_reverse(\"my head hurts\"))"
   ]
  },
  {
   "cell_type": "markdown",
   "metadata": {},
   "source": [
    "<img src=\"./data/images/_09_sideways_tree.jpg\" width=\"800\" alt=\"tree growing sideways\" align=\"left\">"
   ]
  },
  {
   "cell_type": "markdown",
   "metadata": {},
   "source": [
    "*Brownsea Island: sideways tree on south cliff. Copyright [Chris Downer](https://www.geograph.org.uk/photo/1446265) and licensed for reuse under CC-BY-SA 2.0.*"
   ]
  },
  {
   "cell_type": "markdown",
   "metadata": {},
   "source": [
    "## 10/20: Create a Probabilistic Context-Free Grammar and flip each rule\n",
    "\n",
    "### _If you want to learn more about this, you can have a look at this textbook:_\n",
    "\n",
    "Dan Jurafsky & James Martin (3rd edition): \"Speech and Language Processing\", [Chapter 14: Statistical Constituency Parsing](https://web.stanford.edu/~jurafsky/slp3/14.pdf)."
   ]
  },
  {
   "cell_type": "code",
   "execution_count": null,
   "metadata": {
    "collapsed": true
   },
   "outputs": [],
   "source": [
    "# Learn a PCFG to describe the input string. Then take the \n",
    "# rules and flip each rule's right-hand side. \n",
    "# Parse candidates for reverse versions, output the one with \n",
    "# the highest probability.\n",
    "\n",
    "import nltk\n",
    "import random\n",
    "\n",
    "def build_tree(word, level):\n",
    "    if len(word) == 1:\n",
    "        if word.lower() in \"aeiouäöü\":\n",
    "            return \"(V{} {})\".format(level, word)\n",
    "        return \"(C{} {})\".format(level, word)\n",
    "    return \"(N{} {} {})\".format(level, \n",
    "                                build_tree(word[0], level), \n",
    "                                build_tree(word[1:], level+1))\n",
    "\n",
    "def pcfg_reverse(word):\n",
    "    s = build_tree(word, 0)\n",
    "    tree = nltk.Tree.fromstring(s)\n",
    "    productions = tree.productions()\n",
    "    for p in productions:\n",
    "        \n",
    "        ##################################################\n",
    "        # !!! THIS IS WHERE THE MAGIC HAPPENS !!!        #\n",
    "        if len(p._rhs) > 1:                              #\n",
    "            p._rhs = (p._rhs[1], p._rhs[0])              #\n",
    "            ##############################################\n",
    "            \n",
    "    grammar = nltk.induce_pcfg(nltk.Nonterminal(\"N0\"), productions)\n",
    "#     print(grammar)     # UNCOMMENT FOR A FUN TIME!\n",
    "    parser = nltk.pchart.InsideChartParser(grammar)\n",
    "    \n",
    "    # Shuffle to generate 1000 possible words; only the correct\n",
    "    # solution will be parseable with our grammar!\n",
    "    for i in range(1000):\n",
    "        cand = random.sample(word, len(word))\n",
    "#         print(cand)               # UNCOMMENT FOR A FUN TIME!\n",
    "        parser.parse(cand)\n",
    "        for parse in parser.parse(cand):\n",
    "            if parse._ProbabilisticMixIn__prob > 0:\n",
    "#                 print(\"number of tries: {}\".format(i))  # UNCOMMENT!\n",
    "                return \"\".join(cand)\n",
    "    return \"no reverse found, try again\"\n",
    "\n",
    "print(pcfg_reverse(\"whyyy\"))"
   ]
  },
  {
   "cell_type": "markdown",
   "metadata": {},
   "source": [
    "## 11/20: Keep guessing what's next, until you're right"
   ]
  },
  {
   "cell_type": "code",
   "execution_count": null,
   "metadata": {
    "collapsed": true
   },
   "outputs": [],
   "source": [
    "import random\n",
    "\n",
    "def guess_and_consume_reverse(word):\n",
    "    out = \"\"\n",
    "    while word:\n",
    "        next = random.randint(0, len(word)-1)\n",
    "        if next == len(word) - 1:\n",
    "            out += word[next]\n",
    "            word = word[:next]\n",
    "#             print(\"new word: {}\".format(out))  # UNCOMMENT THIS!\n",
    "#             print(\"old word: {}\".format(word)) # UNCOMMENT THIS!\n",
    "    return out\n",
    "\n",
    "print(guess_and_consume_reverse(\"this is tedious\"))"
   ]
  },
  {
   "cell_type": "markdown",
   "metadata": {},
   "source": [
    "## 12/20: Introduce a human to the task!"
   ]
  },
  {
   "cell_type": "markdown",
   "metadata": {},
   "source": [
    "<img src=\"https://media.giphy.com/media/m2Q7FEc0bEr4I/giphy.gif\" alt=\"a human using a computer\" align=\"left\" width=\"450\">"
   ]
  },
  {
   "cell_type": "code",
   "execution_count": null,
   "metadata": {
    "collapsed": true
   },
   "outputs": [],
   "source": [
    "def learn_reverse():\n",
    "    known_reverses = {}\n",
    "    w = input(\"What would you like to reverse?\\n> \")\n",
    "    while w:\n",
    "        if w in known_reverses:\n",
    "            print(\"The reverse of '{}' is '{}'.\".format(w, \n",
    "                                                known_reverses[w]))\n",
    "        else:\n",
    "            t = input(\"Sorry, I don't know that string. \" +\n",
    "                      \"Please tell me how to reverse it.\\n> \")\n",
    "            if not t:\n",
    "                break\n",
    "            known_reverses[w] = t\n",
    "        w = input(\"What would you like to reverse now?\\n> \")\n",
    "    print(\"Goodbye! Thank you for teaching me!\")\n",
    "    \n",
    "learn_reverse()"
   ]
  },
  {
   "cell_type": "markdown",
   "metadata": {},
   "source": [
    "## 13/20: Make the user do the work... and suffer"
   ]
  },
  {
   "cell_type": "markdown",
   "metadata": {},
   "source": [
    "<img src=\"http://i.imgur.com/idxVsfM.gif\" alt=\"a baby doing the work, and suffering\" align=\"left\" width=\"450\">"
   ]
  },
  {
   "cell_type": "code",
   "execution_count": null,
   "metadata": {
    "collapsed": true
   },
   "outputs": [],
   "source": [
    "import tkinter as tk\n",
    "import random\n",
    "\n",
    "word = input(\"Please enter the string you wish to reverse:\\n>>> \")\n",
    "print(\"Thank you. Please select the characters from the string \" +\n",
    "      \"in their correct order.\")\n",
    "REV = \"\"\n",
    "\n",
    "def place_label(canvas, label):\n",
    "    if label[\"text\"] != \"DONE\":\n",
    "        label[\"command\"] = lambda: add_clicked_char(label)\n",
    "        \n",
    "    # This part taken from https://stackoverflow.com/a/52526584\n",
    "    '''place a label on a canvas in a random, \n",
    "    non-overlapping location'''\n",
    "    width = label.winfo_reqwidth()\n",
    "    height = label.winfo_reqheight()\n",
    "\n",
    "    tries = 0\n",
    "    while True and tries < 1000:\n",
    "        tries += 1 # failsafe, to prevent an infinite loop\n",
    "        x = random.randint(0, 200-width)\n",
    "        y = random.randint(0, 200-height)\n",
    "        items = canvas.find_overlapping(x, y, x+width, y+height)\n",
    "        if len(items) == 0:\n",
    "            canvas.create_window(x, y, window=label, anchor=\"nw\")\n",
    "            break\n",
    "\n",
    "def add_clicked_char(label):\n",
    "    global REV   # don't work with global variables, everyone\n",
    "    REV += label[\"text\"]\n",
    "    label[\"state\"] = \"disabled\"\n",
    "    \n",
    "def close():\n",
    "    global REV  # don't work with global variables, everyone\n",
    "    print(\"\\nYou decided to reverse this string:\\n'{}'\\n\" +\n",
    "          \"You selected this sequence to do so:\\n'{}'\\n\\n\" +\n",
    "          \"Thank you for your time.\".format(word, REV))\n",
    "    root.destroy()\n",
    "\n",
    "root = tk.Tk()\n",
    "canvas = tk.Canvas(root, width=400, height=400)\n",
    "canvas.pack(fill=\"both\", expand=True)\n",
    "\n",
    "for c in word:\n",
    "    label = tk.Button(root, \n",
    "                      text=c, \n",
    "                      font=('Helvetica', '20'))\n",
    "    place_label(canvas, label)\n",
    "\n",
    "exit = label = tk.Button(root, \n",
    "                         text=\"DONE\", \n",
    "                         font=('Helvetica', '20'), \n",
    "                         command= close)\n",
    "place_label(canvas, exit)\n",
    "\n",
    "root.mainloop()"
   ]
  },
  {
   "cell_type": "markdown",
   "metadata": {},
   "source": [
    "## 14/20: Make the user suffer, but be polite about it"
   ]
  },
  {
   "cell_type": "code",
   "execution_count": null,
   "metadata": {
    "collapsed": true
   },
   "outputs": [],
   "source": [
    "import random\n",
    "\n",
    "# Idea by @Mattlaschneider on Twitter\n",
    "\n",
    "def ask_reverse(word):\n",
    "    out = \"\"\n",
    "    while len(out) < len(word):\n",
    "        next = random.randint(0, len(word)-1)\n",
    "        is_this_it = input((\"You entered this word: \\t{}\\n\" +\n",
    "                           \"Our output so far is this:\\t{}\\n\" +\n",
    "                           \"Should I add this char (y/n)?\\t{}\\n>>> \").\n",
    "                           format(word, out, word[next]))\n",
    "        if is_this_it.lower() in [\"yes\", \"y\"]:\n",
    "            out += word[next]\n",
    "    return \"Here is your result:\\t{}\".format(out)\n",
    "\n",
    "print(ask_reverse(\"Matt\"))"
   ]
  },
  {
   "cell_type": "markdown",
   "metadata": {},
   "source": [
    "## 15/20: Look it up via an API!"
   ]
  },
  {
   "cell_type": "markdown",
   "metadata": {},
   "source": [
    "### *Note: We can't run this part in a Jupyter Notebook. Go to the \"data\" directory and run the script _15_api_reverse_server.py to start the API server.*\n",
    "\n",
    "```python\n",
    "# First, start a Flask API\n",
    "# Start the API server.\n",
    "\n",
    "from flask import Flask, request\n",
    "from flask_restful import Resource, Api\n",
    "import json\n",
    "\n",
    "app = Flask(__name__)\n",
    "api = Api(app)\n",
    "\n",
    "with open(\"./data/data.json\", \"r\", encoding=\"utf8\") as f:\n",
    "    reversed = json.load(f)\n",
    "\n",
    "class ReverseString(Resource):\n",
    "    def get(self, orig_word):\n",
    "        try:\n",
    "            return {orig_word: reversed[orig_word]}\n",
    "        except KeyError:\n",
    "            return {orig_word: \"Sorry, I don't know how to reverse this: {}\".format(orig_word)}\n",
    "\n",
    "api.add_resource(ReverseString, '/<string:orig_word>')\n",
    "\n",
    "app.run(host='0.0.0.0', port=5005, debug=True)```"
   ]
  },
  {
   "cell_type": "code",
   "execution_count": null,
   "metadata": {
    "collapsed": true
   },
   "outputs": [],
   "source": [
    "# And now, let's talk to the server!\n",
    "# Query the reverse-string API and return the value found \n",
    "# for the input string.\n",
    "\n",
    "import requests\n",
    "import json\n",
    "\n",
    "def api_reverse(w):\n",
    "    try:\n",
    "        r = requests.get('http://localhost:5000/{}'.format(w)).json()\n",
    "        return r[w]\n",
    "    except Exception as e:\n",
    "        # whoops, probably forgot to start the API first\n",
    "        print(\"Can't get the answer, maybe the API isn't running?\")\n",
    "        print(\"\\nFull error description:{}\".format(e))\n",
    "        return\n",
    "        \n",
    "\n",
    "print(api_reverse(\"enjoy\"))\n",
    "\n",
    "print(api_reverse(\"item that is not found on the pre-defined list\"))"
   ]
  },
  {
   "cell_type": "markdown",
   "metadata": {},
   "source": [
    "## 16/20: Sleep on it!\n",
    "### *Note: This approach was contributed by @miseryconfusion on twitter (see [original tweet](https://twitter.com/miseryconfusion/status/1091052050085888006)).*"
   ]
  },
  {
   "cell_type": "markdown",
   "metadata": {},
   "source": [
    "<img src=\"https://media2.giphy.com/media/14cEK1M6culzlC/giphy.gif\" alt=\"puppies, sleeping\" align=\"left\" width=\"450\">"
   ]
  },
  {
   "cell_type": "code",
   "execution_count": null,
   "metadata": {
    "collapsed": true
   },
   "outputs": [],
   "source": [
    "# original code from \n",
    "# https://twitter.com/miseryconfusion/status/1091052050085888006\n",
    "\n",
    "import time\n",
    "import sys\n",
    "from threading import Thread\n",
    "\n",
    "def sleep_append(delay, el, output):\n",
    "    delay = delay/5  # change the number to set the speed\n",
    "    time.sleep(delay)\n",
    "#     print(output)     # UNCOMMENT FOR A FUN TIME!\n",
    "    output.append(el)\n",
    "    \n",
    "def sleep_reverse(l):\n",
    "    output = []\n",
    "    threads = [Thread(target=sleep_append, \n",
    "                      args=(len(l)-i, v, output)) \\\n",
    "               for i, v in enumerate(l)]\n",
    "    for t in threads:\n",
    "        t.start()\n",
    "    for t in threads:\n",
    "        t.join()\n",
    "    return ''.join(output)\n",
    "\n",
    "print(sleep_reverse(\"@miseryconfusion\"))"
   ]
  },
  {
   "cell_type": "markdown",
   "metadata": {},
   "source": [
    "## 17/20: Bitwise shift\n",
    "### *Note: This approach is partially inspired by a Perl solution by @greg_p_kennedy on twitter (see [original tweet](https://twitter.com/greg_p_kennedy/status/1091508128129208321)).*"
   ]
  },
  {
   "cell_type": "code",
   "execution_count": null,
   "metadata": {
    "collapsed": true
   },
   "outputs": [],
   "source": [
    "def bit_reverse(input_word):\n",
    "    current_output = 0\n",
    "    \n",
    "    for i in range(len(input_word)):\n",
    "        char = input_word[i]\n",
    "        shift = 8 * i        \n",
    "        current_output = current_output | (int(bin(ord(char)), 2) << shift)\n",
    "#         print(\"{:<42}{}\".format(\"Current char:\", char))\n",
    "#         print(\"{:<42}{}\".format(\"Current char's binary representation:\", bin(ord(char))))\n",
    "#         print(\"{:<42}{}\".format(\"Current output as binary representation:\", bin(current_output)))\n",
    "#         print(\"---\")\n",
    "    \n",
    "#     print(\"\\n##### AND NOW, BACKWARDS #####\\n\")\n",
    "    \n",
    "    loop_start_index = len(bin(ord(char)))\n",
    "    out_word = char\n",
    "    for i in range(loop_start_index, len(bin(current_output)), 8):\n",
    "        out_word += chr(int(bin(current_output)[i:i+8], 2))\n",
    "#         print(\"{:<50}{}\".format(\"Current char's binary representation:\", bin(current_output)[i:i+8]))\n",
    "#         print(\"{:<50}{}\".format(\"Current char's integer (base 10) representation:\", int(bin(current_output)[i:i+8], 2)))\n",
    "#         print(\"{:<50}'{}'\".format(\"Current char as character:\", chr(int(bin(current_output)[i:i+8], 2))))\n",
    "#         print(\"---\")\n",
    "    return out_word\n",
    "\n",
    "# ATTN please don't reverse any strings containing >8-bit chars :(\n",
    "print(bit_reverse(\"¿hola, cómo estás?\"))\n"
   ]
  },
  {
   "cell_type": "markdown",
   "metadata": {},
   "source": [
    "## 18/20: dynet??!?!?\n",
    "### *Note: This approach was developed by @zookeepee on twitter (see [original tweet](https://twitter.com/zookeepee/status/1091659716638457856)).*\n",
    "\n",
    "<img src=\"./data/images/_18_dynet.jpeg\" width=\"800\" alt=\"implementation of a neural net in dynet to learn reverse strings, by @zookeepee on twitter\" align=\"left\">"
   ]
  },
  {
   "cell_type": "markdown",
   "metadata": {},
   "source": [
    "<img src=\"./data/images/_18_dynet_output.jpeg\" width=\"800\" alt=\"output of a neural net in dynet to learn reverse strings, by @zookeepee on twitter\" align=\"left\">"
   ]
  },
  {
   "cell_type": "markdown",
   "metadata": {},
   "source": [
    "## 19/20: Exploit the 3rd dimension"
   ]
  },
  {
   "cell_type": "code",
   "execution_count": null,
   "metadata": {
    "collapsed": true
   },
   "outputs": [],
   "source": [
    "import os\n",
    "\n",
    "def create_pdf(word, snippet_path, outpath):\n",
    "    # I stored some tex boilerplate stuff in separate files to avoid\n",
    "    # clogging up this beautiful python code\n",
    "    with open(snippet_path.format(1), \"r\", encoding=\"utf8\") as sn1file:\n",
    "        sn1 = sn1file.read()\n",
    "    with open(snippet_path.format(2), \"r\", encoding=\"utf8\") as sn2file:\n",
    "        sn2 = sn2file.read()    \n",
    "    with open(snippet_path.format(3), \"r\", encoding=\"utf8\") as sn3file:\n",
    "        sn3 = sn3file.read()\n",
    "    with open(snippet_path.format(4), \"r\", encoding=\"utf8\") as sn4file:\n",
    "        sn4 = sn4file.read()\n",
    "\n",
    "    # OK, and some boilerplate is defined here\n",
    "    node_boilerplate_1 = \"\\\\node[rectangle, draw=black, very thick, inner sep=8pt, minimum size=3\\\\baselineskip] ({}) at (0, 0) {{\\\\Large\\\\textbf{{{}}}}};\"\n",
    "    node_boilerplate_2 = \"\\\\node[rectangle, draw=black, very thick, inner sep=8pt, minimum size=3\\\\baselineskip] ({}) at ({}, 0) {{\\\\Large\\\\textbf{{{}}}}};\"\n",
    "\n",
    "    with open(outpath, \"w\", encoding=\"utf8\") as outfile:\n",
    "        print(sn1, file=outfile)\n",
    "        # draw first node of the word\n",
    "        print(node_boilerplate_1.format(word[0], word[0]), \n",
    "              file=outfile)\n",
    "        # draw all the remaining nodes\n",
    "        for i in range(1, len(word)):\n",
    "            print(node_boilerplate_2.format(word[i], i*2, word[i]), \n",
    "                  file=outfile)\n",
    "\n",
    "        print(sn2, file=outfile)\n",
    "        # draw first index node\n",
    "        print(node_boilerplate_1.format(1, 1), file=outfile)\n",
    "        # draw all the remaining index nodes\n",
    "        for i in range(1, len(word)):\n",
    "            print(node_boilerplate_2.format(i+1, i*2, i+1), \n",
    "                  file=outfile)\n",
    "\n",
    "        print(sn3, file=outfile)\n",
    "        # draw first index node\n",
    "        print(node_boilerplate_1.format(1, 1), file=outfile)\n",
    "        # draw all the remaining index nodes\n",
    "        for i in range(1, len(word)):\n",
    "            print(node_boilerplate_2.format(i+1, i*2, i+1), \n",
    "                  file=outfile)\n",
    "\n",
    "        print(sn4, file=outfile)\n",
    "    os.system(\"pdflatex {}\".format(outpath))\n",
    "\n",
    "os.chdir(\"./data\")\n",
    "word = input(\"Which word do you want to reverse? > \")\n",
    "create_pdf(word, \n",
    "           \"./_19_tex_snippets/{}.txt\", \n",
    "           \"./_19_tex_reverse.tex\")\n",
    "os.chdir(\"..\")"
   ]
  },
  {
   "cell_type": "markdown",
   "metadata": {},
   "source": [
    "### If the above worked, we can now see the contents of the pdf..."
   ]
  },
  {
   "cell_type": "code",
   "execution_count": 1,
   "metadata": {},
   "outputs": [
    {
     "data": {
      "text/html": [
       "\n",
       "        <iframe\n",
       "            width=\"590\"\n",
       "            height=\"840\"\n",
       "            src=\"./data/_19_tex_reverse.pdf\"\n",
       "            frameborder=\"0\"\n",
       "            allowfullscreen\n",
       "        ></iframe>\n",
       "        "
      ],
      "text/plain": [
       "<IPython.lib.display.IFrame at 0x1298ad6d588>"
      ]
     },
     "execution_count": 1,
     "metadata": {},
     "output_type": "execute_result"
    }
   ],
   "source": [
    "from IPython.display import IFrame\n",
    "IFrame(\"./data/_19_tex_reverse.pdf\", width=590, height=840)"
   ]
  },
  {
   "cell_type": "markdown",
   "metadata": {},
   "source": [
    "### Now all we need is a printer, scissors and glue!\n",
    "\n",
    "<img src=\"./data/images/_19_out_1.jpg\" width=\"800\" alt=\"about to print that pdf\" align=\"left\">"
   ]
  },
  {
   "cell_type": "code",
   "execution_count": 2,
   "metadata": {},
   "outputs": [
    {
     "data": {
      "text/html": [
       "<video src=\"./data/images/_19_out_2.mp4\" controls>\n",
       "      Your browser does not support the <code>video</code> element.\n",
       "    </video>"
      ],
      "text/plain": [
       "<IPython.core.display.Video object>"
      ]
     },
     "execution_count": 2,
     "metadata": {},
     "output_type": "execute_result"
    }
   ],
   "source": [
    "from IPython.display import Video\n",
    "Video(data=\"./data/images/_19_out_2.mp4\")"
   ]
  },
  {
   "cell_type": "markdown",
   "metadata": {},
   "source": [
    "<img src=\"./data/images/_19_out_3.jpg\" width=\"800\" alt=\"ready to cut it up...\" align=\"left\">"
   ]
  },
  {
   "cell_type": "markdown",
   "metadata": {},
   "source": [
    "<img style=\"transform: rotate(180deg);\" src=\"./data/images/_19_out_4.jpg\" width=\"800\" alt=\"cutting...\" align=\"left\">"
   ]
  },
  {
   "cell_type": "markdown",
   "metadata": {},
   "source": [
    "<img src=\"./data/images/_19_out_5.jpg\" width=\"800\" alt=\"ready to place the characters!\" align=\"left\">"
   ]
  },
  {
   "cell_type": "markdown",
   "metadata": {},
   "source": [
    "<img src=\"./data/images/_19_out_6.jpg\" width=\"800\" alt=\"sorted the characters, now placing them one by one...\" align=\"left\">"
   ]
  },
  {
   "cell_type": "markdown",
   "metadata": {},
   "source": [
    "<img src=\"./data/images/_19_out_7.jpg\" width=\"800\" alt=\"using tape is not recommended :(\" align=\"left\">"
   ]
  },
  {
   "cell_type": "markdown",
   "metadata": {
    "collapsed": true
   },
   "source": [
    "## 20/20: *Really* exploit the 3rd dimension!"
   ]
  },
  {
   "cell_type": "code",
   "execution_count": null,
   "metadata": {
    "collapsed": true
   },
   "outputs": [],
   "source": [
    "# STEP 1 OF 3 - skip if you don't have Blender,\n",
    "# and/or if pressed for time\n",
    "\n",
    "import os\n",
    "\n",
    "input_word = \"goodbye\"\n",
    "\n",
    "# Create and render an animation (individual frames)\n",
    "blender_path = '\"C:/Program Files/Blender Foundation/Blender/blender.exe\"'\n",
    "mycmd = '{} -b -P ./data/_20_code.py -- {}'.format(blender_path, \n",
    "                                                   input_word)\n",
    "print(os.popen(mycmd).read())  "
   ]
  },
  {
   "cell_type": "code",
   "execution_count": null,
   "metadata": {
    "collapsed": true
   },
   "outputs": [],
   "source": [
    "# STEP 2 OF 3 - skip if you don't have ffmpeg, and/or\n",
    "# if pressed for time\n",
    "\n",
    "video_path = \"./data/_20_result.mp4\"\n",
    "if os.path.isfile(video_path):\n",
    "    os.remove(video_path)\n",
    "    \n",
    "ffmpeg_cmd = 'ffmpeg -framerate 24 -i ./data/images/_20_allframes/frame_%03d.png {}'.format(video_path)\n",
    "print(os.popen(ffmpeg_cmd).read())"
   ]
  },
  {
   "cell_type": "code",
   "execution_count": null,
   "metadata": {
    "collapsed": true
   },
   "outputs": [],
   "source": [
    "# STEP 3 of 3 - run this to display either an existing result\n",
    "# or the result you generated by executing the first 2 steps\n",
    "\n",
    "from IPython.display import Video\n",
    "Video(\"./data/_20_result.mp4\")"
   ]
  },
  {
   "cell_type": "markdown",
   "metadata": {},
   "source": [
    "# There you go! This is how you DON'T reverse a string in python. Thank you for your attention!\n",
    "*Follow me on twitter: @ojahnn*"
   ]
  }
 ],
 "metadata": {
  "kernelspec": {
   "display_name": "Python 3",
   "language": "python",
   "name": "python3"
  },
  "language_info": {
   "codemirror_mode": {
    "name": "ipython",
    "version": 3
   },
   "file_extension": ".py",
   "mimetype": "text/x-python",
   "name": "python",
   "nbconvert_exporter": "python",
   "pygments_lexer": "ipython3",
   "version": "3.5.6"
  }
 },
 "nbformat": 4,
 "nbformat_minor": 1
}
